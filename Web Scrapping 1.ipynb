{
 "cells": [
  {
   "cell_type": "code",
   "execution_count": 36,
   "metadata": {},
   "outputs": [],
   "source": [
    "import pandas as pd, numpy as np, sys, time\n",
    "from requests import get\n",
    "from bs4 import BeautifulSoup\n",
    "import selenium\n",
    "from selenium.webdriver import Safari"
   ]
  },
  {
   "cell_type": "markdown",
   "metadata": {},
   "source": [
    "## 1. Write a python program to display all the header tags from ‘en.wikipedia.org/wiki/Main_Page’."
   ]
  },
  {
   "cell_type": "code",
   "execution_count": 58,
   "metadata": {},
   "outputs": [],
   "source": [
    "header_tag_dataframe=pd.DataFrame()\n",
    "header_tag_list=[]\n",
    "def wiki_header(url):\n",
    "    try:\n",
    "        header_tag_list.clear()\n",
    "        response=get(url)\n",
    "        html_soup=BeautifulSoup(response.text,'html.parser')\n",
    "        header_tags=html_soup.find_all('h2',attrs={'class':'mp-h2'})\n",
    "        for x in header_tags:\n",
    "            header_tag_list.append(x.find_all('span',attrs={'class':'mw-headline'})[0].text)\n",
    "        header_tag_dataframe['Header Tag']=header_tag_list\n",
    "        return header_tag_dataframe\n",
    "    except:\n",
    "        print(sys.exc_info()[0])\n",
    "        print('Please try with exact URL')"
   ]
  },
  {
   "cell_type": "code",
   "execution_count": 59,
   "metadata": {},
   "outputs": [
    {
     "data": {
      "text/html": [
       "<div>\n",
       "<style scoped>\n",
       "    .dataframe tbody tr th:only-of-type {\n",
       "        vertical-align: middle;\n",
       "    }\n",
       "\n",
       "    .dataframe tbody tr th {\n",
       "        vertical-align: top;\n",
       "    }\n",
       "\n",
       "    .dataframe thead th {\n",
       "        text-align: right;\n",
       "    }\n",
       "</style>\n",
       "<table border=\"1\" class=\"dataframe\">\n",
       "  <thead>\n",
       "    <tr style=\"text-align: right;\">\n",
       "      <th></th>\n",
       "      <th>Header Tag</th>\n",
       "    </tr>\n",
       "  </thead>\n",
       "  <tbody>\n",
       "    <tr>\n",
       "      <th>0</th>\n",
       "      <td>From today's featured article</td>\n",
       "    </tr>\n",
       "    <tr>\n",
       "      <th>1</th>\n",
       "      <td>Did you know ...</td>\n",
       "    </tr>\n",
       "    <tr>\n",
       "      <th>2</th>\n",
       "      <td>In the news</td>\n",
       "    </tr>\n",
       "    <tr>\n",
       "      <th>3</th>\n",
       "      <td>On this day</td>\n",
       "    </tr>\n",
       "    <tr>\n",
       "      <th>4</th>\n",
       "      <td>Today's featured picture</td>\n",
       "    </tr>\n",
       "    <tr>\n",
       "      <th>5</th>\n",
       "      <td>Other areas of Wikipedia</td>\n",
       "    </tr>\n",
       "    <tr>\n",
       "      <th>6</th>\n",
       "      <td>Wikipedia's sister projects</td>\n",
       "    </tr>\n",
       "    <tr>\n",
       "      <th>7</th>\n",
       "      <td>Wikipedia languages</td>\n",
       "    </tr>\n",
       "  </tbody>\n",
       "</table>\n",
       "</div>"
      ],
      "text/plain": [
       "                      Header Tag\n",
       "0  From today's featured article\n",
       "1               Did you know ...\n",
       "2                    In the news\n",
       "3                    On this day\n",
       "4       Today's featured picture\n",
       "5       Other areas of Wikipedia\n",
       "6    Wikipedia's sister projects\n",
       "7            Wikipedia languages"
      ]
     },
     "execution_count": 59,
     "metadata": {},
     "output_type": "execute_result"
    }
   ],
   "source": [
    "df=wiki_header('https://en.wikipedia.org/wiki/Main_Page')\n",
    "df"
   ]
  },
  {
   "cell_type": "markdown",
   "metadata": {},
   "source": [
    "##  2. Write a python program to display IMDB’s Top rated 100 movies’ data (i.e. Name, IMDB rating, Year of release) and save it in form of a CSV file."
   ]
  },
  {
   "cell_type": "code",
   "execution_count": 60,
   "metadata": {},
   "outputs": [],
   "source": [
    "top_100_dict={}\n",
    "def imdb_top100(url):\n",
    "    try:\n",
    "        response=get(url)\n",
    "        soup=BeautifulSoup(response.text,'html.parser')\n",
    "        title=soup.find_all('div',attrs={'class':'lister-item-content'}) #For title\n",
    "        top_100_dict.update({'Title':[]})\n",
    "\n",
    "        rating=soup.find_all('div',attrs={'class':'ipl-rating-widget'}) #For Rating and Year of Release\n",
    "        top_100_dict.update({'Rating':[]})\n",
    "        \n",
    "        top_100_dict.update({'Year of release':[]})\n",
    "\n",
    "        for x in title:\n",
    "            top_100_dict['Title'].append(x.h3.a.text)\n",
    "\n",
    "        for x in rating:\n",
    "            top_100_dict['Rating'].append(float(x.div.find('span',attrs={'class':'ipl-rating-star__rating'}).text))\n",
    "            \n",
    "        for x in title:\n",
    "            top_100_dict['Year of release'].append(x.h3.find_all('span',attrs={'class':'lister-item-year text-muted unbold'})[0].text)\n",
    "\n",
    "\n",
    "        top_100_df=pd.DataFrame(top_100_dict)\n",
    "        top_100_df.to_csv('IMDB Top 100//IMDB Top 100.csv')\n",
    "        return top_100_df\n",
    "    \n",
    "    except:\n",
    "        print(sys.exc_info()[0])\n",
    "        print('Please try with exact URL')"
   ]
  },
  {
   "cell_type": "code",
   "execution_count": 64,
   "metadata": {},
   "outputs": [
    {
     "data": {
      "text/html": [
       "<div>\n",
       "<style scoped>\n",
       "    .dataframe tbody tr th:only-of-type {\n",
       "        vertical-align: middle;\n",
       "    }\n",
       "\n",
       "    .dataframe tbody tr th {\n",
       "        vertical-align: top;\n",
       "    }\n",
       "\n",
       "    .dataframe thead th {\n",
       "        text-align: right;\n",
       "    }\n",
       "</style>\n",
       "<table border=\"1\" class=\"dataframe\">\n",
       "  <thead>\n",
       "    <tr style=\"text-align: right;\">\n",
       "      <th></th>\n",
       "      <th>Title</th>\n",
       "      <th>Rating</th>\n",
       "      <th>Year of release</th>\n",
       "    </tr>\n",
       "  </thead>\n",
       "  <tbody>\n",
       "    <tr>\n",
       "      <th>0</th>\n",
       "      <td>The Shawshank Redemption</td>\n",
       "      <td>9.3</td>\n",
       "      <td>(1994)</td>\n",
       "    </tr>\n",
       "    <tr>\n",
       "      <th>1</th>\n",
       "      <td>The Godfather</td>\n",
       "      <td>9.2</td>\n",
       "      <td>(1972)</td>\n",
       "    </tr>\n",
       "    <tr>\n",
       "      <th>2</th>\n",
       "      <td>The Godfather: Part II</td>\n",
       "      <td>9.0</td>\n",
       "      <td>(1974)</td>\n",
       "    </tr>\n",
       "    <tr>\n",
       "      <th>3</th>\n",
       "      <td>The Dark Knight</td>\n",
       "      <td>9.0</td>\n",
       "      <td>(2008)</td>\n",
       "    </tr>\n",
       "    <tr>\n",
       "      <th>4</th>\n",
       "      <td>12 Angry Men</td>\n",
       "      <td>9.0</td>\n",
       "      <td>(1957)</td>\n",
       "    </tr>\n",
       "  </tbody>\n",
       "</table>\n",
       "</div>"
      ],
      "text/plain": [
       "                      Title  Rating Year of release\n",
       "0  The Shawshank Redemption     9.3          (1994)\n",
       "1             The Godfather     9.2          (1972)\n",
       "2    The Godfather: Part II     9.0          (1974)\n",
       "3           The Dark Knight     9.0          (2008)\n",
       "4              12 Angry Men     9.0          (1957)"
      ]
     },
     "execution_count": 64,
     "metadata": {},
     "output_type": "execute_result"
    }
   ],
   "source": [
    "df=imdb_top100('https://www.imdb.com/list/ls091520106/')\n",
    "df.head()"
   ]
  },
  {
   "cell_type": "markdown",
   "metadata": {},
   "source": [
    "## 3. Write a python program to display IMDB’s Top rated 100 Indian movies’ data (i.e. Name, IMDB rating, Year of release) and save it in form of a CSV file."
   ]
  },
  {
   "cell_type": "code",
   "execution_count": 62,
   "metadata": {},
   "outputs": [],
   "source": [
    "top_100_indian_dict={}\n",
    "def imdb_top100_india(url):\n",
    "    try:\n",
    "        response=get(url)\n",
    "        soup=BeautifulSoup(response.text,'html.parser')\n",
    "        get_txt=soup.find_all('div',attrs={'class':'lister'})[0].find_all('table',attrs={'data-caller-name':'imdb-featured-india'})[0]\n",
    "        top_100_indian_dict.update({'Title':[]})\n",
    "        top_100_indian_dict.update({'Rating':[]})\n",
    "        top_100_indian_dict.update({'Year of Release':[]})\n",
    "        \n",
    "        for x in range(100):\n",
    "            top_100_indian_dict['Title'].append(txt.find_all('td',attrs={'class':'titleColumn'})[x].a.text)\n",
    "            top_100_indian_dict['Rating'].append(txt.find_all('td',attrs={'class':'ratingColumn imdbRating'})[x].strong.text)\n",
    "            top_100_indian_dict['Year of Release'].append(txt.find_all('td',attrs={'class':'titleColumn'})[x].span.text)\n",
    "            \n",
    "        top_100_indian_df=pd.DataFrame(top_100_indian_dict)\n",
    "        top_100_indian_df.to_csv('IMDB Top 100//IMDB Top Indian 100.csv')\n",
    "        return top_100_indian_df\n",
    "    \n",
    "    except:\n",
    "        print(sys.exc_info()[0])\n",
    "        print('Please try with exact URL')"
   ]
  },
  {
   "cell_type": "code",
   "execution_count": 63,
   "metadata": {},
   "outputs": [
    {
     "data": {
      "text/html": [
       "<div>\n",
       "<style scoped>\n",
       "    .dataframe tbody tr th:only-of-type {\n",
       "        vertical-align: middle;\n",
       "    }\n",
       "\n",
       "    .dataframe tbody tr th {\n",
       "        vertical-align: top;\n",
       "    }\n",
       "\n",
       "    .dataframe thead th {\n",
       "        text-align: right;\n",
       "    }\n",
       "</style>\n",
       "<table border=\"1\" class=\"dataframe\">\n",
       "  <thead>\n",
       "    <tr style=\"text-align: right;\">\n",
       "      <th></th>\n",
       "      <th>Title</th>\n",
       "      <th>Rating</th>\n",
       "      <th>Year of Release</th>\n",
       "    </tr>\n",
       "  </thead>\n",
       "  <tbody>\n",
       "    <tr>\n",
       "      <th>0</th>\n",
       "      <td>Pather Panchali</td>\n",
       "      <td>8.5</td>\n",
       "      <td>(1955)</td>\n",
       "    </tr>\n",
       "    <tr>\n",
       "      <th>1</th>\n",
       "      <td>Ratsasan</td>\n",
       "      <td>8.5</td>\n",
       "      <td>(2018)</td>\n",
       "    </tr>\n",
       "    <tr>\n",
       "      <th>2</th>\n",
       "      <td>Gol Maal</td>\n",
       "      <td>8.5</td>\n",
       "      <td>(1979)</td>\n",
       "    </tr>\n",
       "    <tr>\n",
       "      <th>3</th>\n",
       "      <td>Anbe Sivam</td>\n",
       "      <td>8.5</td>\n",
       "      <td>(2003)</td>\n",
       "    </tr>\n",
       "    <tr>\n",
       "      <th>4</th>\n",
       "      <td>Nayakan</td>\n",
       "      <td>8.5</td>\n",
       "      <td>(1987)</td>\n",
       "    </tr>\n",
       "  </tbody>\n",
       "</table>\n",
       "</div>"
      ],
      "text/plain": [
       "             Title Rating Year of Release\n",
       "0  Pather Panchali    8.5          (1955)\n",
       "1         Ratsasan    8.5          (2018)\n",
       "2         Gol Maal    8.5          (1979)\n",
       "3       Anbe Sivam    8.5          (2003)\n",
       "4          Nayakan    8.5          (1987)"
      ]
     },
     "execution_count": 63,
     "metadata": {},
     "output_type": "execute_result"
    }
   ],
   "source": [
    "df=imdb_top100_india('https://www.imdb.com/india/top-rated-indian-movies/')\n",
    "df.head()"
   ]
  },
  {
   "cell_type": "markdown",
   "metadata": {},
   "source": [
    "## 4. Write a python program to scrap book name, author name, genre and book review of any 5 books from ‘www.bookpage.com’"
   ]
  },
  {
   "cell_type": "code",
   "execution_count": 73,
   "metadata": {},
   "outputs": [],
   "source": [
    "url='https://bookpage.com'\n",
    "response=get(url)\n",
    "soup=BeautifulSoup(response.text,'html.parser')"
   ]
  },
  {
   "cell_type": "code",
   "execution_count": 182,
   "metadata": {},
   "outputs": [
    {
     "data": {
      "text/plain": [
       "'Gifts for gentle growth'"
      ]
     },
     "execution_count": 182,
     "metadata": {},
     "output_type": "execute_result"
    }
   ],
   "source": [
    "get_txt=soup.find_all('div',attrs={'class':'bp-well'})\n",
    "get_txt[0].h4.a.text #Title"
   ]
  },
  {
   "cell_type": "code",
   "execution_count": 208,
   "metadata": {},
   "outputs": [
    {
     "data": {
      "text/plain": [
       "'Feature by Susannah Felts'"
      ]
     },
     "execution_count": 208,
     "metadata": {},
     "output_type": "execute_result"
    }
   ],
   "source": [
    "get_txt[0].p.text.replace('\\n',\"\") #Author"
   ]
  },
  {
   "cell_type": "code",
   "execution_count": 211,
   "metadata": {},
   "outputs": [
    {
     "data": {
      "text/plain": [
       "'Nonfiction'"
      ]
     },
     "execution_count": 211,
     "metadata": {},
     "output_type": "execute_result"
    }
   ],
   "source": [
    "get_txt[0].find('p',attrs={'class':'genre-links hidden-phone'}).a.text #Genre"
   ]
  },
  {
   "cell_type": "code",
   "execution_count": 216,
   "metadata": {},
   "outputs": [
    {
     "data": {
      "text/plain": [
       "'In this strange and difficult year, we’ve all learned how to seek out and find silver linings. Here’s one: At a moment when we could all use a gift that says...'"
      ]
     },
     "execution_count": 216,
     "metadata": {},
     "output_type": "execute_result"
    }
   ],
   "source": [
    "get_txt[0].find('p',attrs={'class':'excerpt'}).text.replace('\\n',\"\") #Review"
   ]
  },
  {
   "cell_type": "code",
   "execution_count": 244,
   "metadata": {},
   "outputs": [],
   "source": [
    "book={}\n",
    "def book_func(url):\n",
    "    try:\n",
    "        response=get(url)\n",
    "        soup=BeautifulSoup(response.text,'html.parser')\n",
    "        get_txt=soup.find_all('div',attrs={'class':'bp-well'})\n",
    "\n",
    "        book.update({'Book Name':[]})\n",
    "        book.update({'Author Name':[]})\n",
    "        book.update({'Genre':[]})\n",
    "        book.update({'Review':[]})\n",
    "\n",
    "        for x in range(5):\n",
    "            book['Book Name'].append(get_txt[x].h4.a.text) #Title\n",
    "\n",
    "            book['Author Name'].append(get_txt[x].p.text.replace('\\n',\"\")) #Author\n",
    "\n",
    "            book['Genre'].append(get_txt[x].find('p',attrs={'class':'genre-links hidden-phone'}).a.text) #Genre\n",
    "\n",
    "            book['Review'].append(get_txt[x].find('p',attrs={'class':'excerpt'}).text.replace('\\n',\"\")) #Review\n",
    "        \n",
    "        bookdf=pd.DataFrame(book)\n",
    "        bookdf.to_csv('Book//Book.csv')\n",
    "    \n",
    "        return bookdf\n",
    "    except:\n",
    "        print(sys.exc_info()[0])\n",
    "        print(sys.exc_info()[1])\n",
    "        print(sys.exc_info()[3])\n",
    "        "
   ]
  },
  {
   "cell_type": "code",
   "execution_count": 246,
   "metadata": {},
   "outputs": [
    {
     "data": {
      "text/html": [
       "<div>\n",
       "<style scoped>\n",
       "    .dataframe tbody tr th:only-of-type {\n",
       "        vertical-align: middle;\n",
       "    }\n",
       "\n",
       "    .dataframe tbody tr th {\n",
       "        vertical-align: top;\n",
       "    }\n",
       "\n",
       "    .dataframe thead th {\n",
       "        text-align: right;\n",
       "    }\n",
       "</style>\n",
       "<table border=\"1\" class=\"dataframe\">\n",
       "  <thead>\n",
       "    <tr style=\"text-align: right;\">\n",
       "      <th></th>\n",
       "      <th>Book Name</th>\n",
       "      <th>Author Name</th>\n",
       "      <th>Genre</th>\n",
       "      <th>Review</th>\n",
       "    </tr>\n",
       "  </thead>\n",
       "  <tbody>\n",
       "    <tr>\n",
       "      <th>0</th>\n",
       "      <td>Gifts for gentle growth</td>\n",
       "      <td>Feature by Susannah Felts</td>\n",
       "      <td>Nonfiction</td>\n",
       "      <td>In this strange and difficult year, we’ve all ...</td>\n",
       "    </tr>\n",
       "    <tr>\n",
       "      <th>1</th>\n",
       "      <td>Audio: December 2020</td>\n",
       "      <td>Feature by Anna Zeitlin</td>\n",
       "      <td>Audio</td>\n",
       "      <td>Some are short, and some are long, but the sto...</td>\n",
       "    </tr>\n",
       "    <tr>\n",
       "      <th>2</th>\n",
       "      <td>Dancing in the Mosque</td>\n",
       "      <td>Review by Priscilla Kipp</td>\n",
       "      <td>Nonfiction</td>\n",
       "      <td>Homeira Qaderi’s searing memoir Dancing in the...</td>\n",
       "    </tr>\n",
       "    <tr>\n",
       "      <th>3</th>\n",
       "      <td>A Year of Everyday Wonders</td>\n",
       "      <td>Review by Julie Danielson</td>\n",
       "      <td>Children's Picture Book</td>\n",
       "      <td>A Year of Everyday Wonders is a truly wonderfu...</td>\n",
       "    </tr>\n",
       "    <tr>\n",
       "      <th>4</th>\n",
       "      <td>America the Beautiful</td>\n",
       "      <td>Review by Anna Spydell</td>\n",
       "      <td>Nonfiction</td>\n",
       "      <td>This beautiful hardcover book from National Ge...</td>\n",
       "    </tr>\n",
       "  </tbody>\n",
       "</table>\n",
       "</div>"
      ],
      "text/plain": [
       "                    Book Name                Author Name  \\\n",
       "0     Gifts for gentle growth  Feature by Susannah Felts   \n",
       "1        Audio: December 2020    Feature by Anna Zeitlin   \n",
       "2       Dancing in the Mosque   Review by Priscilla Kipp   \n",
       "3  A Year of Everyday Wonders  Review by Julie Danielson   \n",
       "4       America the Beautiful     Review by Anna Spydell   \n",
       "\n",
       "                     Genre                                             Review  \n",
       "0               Nonfiction  In this strange and difficult year, we’ve all ...  \n",
       "1                    Audio  Some are short, and some are long, but the sto...  \n",
       "2               Nonfiction  Homeira Qaderi’s searing memoir Dancing in the...  \n",
       "3  Children's Picture Book  A Year of Everyday Wonders is a truly wonderfu...  \n",
       "4               Nonfiction  This beautiful hardcover book from National Ge...  "
      ]
     },
     "execution_count": 246,
     "metadata": {},
     "output_type": "execute_result"
    }
   ],
   "source": [
    "df=book_func('https://bookpage.com')\n",
    "df.head()"
   ]
  },
  {
   "cell_type": "markdown",
   "metadata": {},
   "source": [
    "## 5. Write a python program to scrape cricket rankings from ‘www.icc-cricket.com’. You have to scrape:\n",
    "## i) Top 10 ODI teams in men’s cricket along with the records for matches, points and rating.\n",
    "## ii) Top 10 ODI Batsmen in men along with the records of their team and rating.\n",
    "## iii) Top 10 ODI bowlers along with the records of their team and rating."
   ]
  },
  {
   "cell_type": "code",
   "execution_count": 66,
   "metadata": {},
   "outputs": [],
   "source": [
    "team={}\n",
    "def team_func(url):\n",
    "    try:\n",
    "        response=get(url)\n",
    "        soup=BeautifulSoup(response.text,'html.parser')\n",
    "        get_txt=soup.find_all('div',attrs={'class':'rankings-block__container full rankings-table'})\n",
    "\n",
    "        team.update({'Team':[]})\n",
    "        team.update({'Matches':[]})\n",
    "        team.update({'Points':[]})\n",
    "        team.update({'Ratings':[]})\n",
    "\n",
    "        team['Matches'].append(get_txt[0].tbody.find_all('td',attrs={'class':['rankings-block__banner--matches']})[0].text) #Matches                                    \n",
    "        \n",
    "        for x in range(0,18,2):\n",
    "            team['Matches'].append(get_txt[0].tbody.find_all('td',attrs={'class':['table-body__cell u-center-text']})[x].text) #Matches                                   \n",
    "        \n",
    "        \n",
    "        for x in range(10):\n",
    "            \n",
    "            team['Team'].append(get_txt[0].tbody.find_all('span',attrs={'class':'u-hide-phablet'})[x].text) #Team\n",
    "            \n",
    "            team['Ratings'].append(get_txt[0].tbody.find_all('td',attrs={'class':['rankings-block__banner--rating u-text-right','table-body__cell u-text-right rating']})[x].text.replace('\\n',\"\").strip()) #Ratings\n",
    "                                   \n",
    "        \n",
    "        for x in range(0,20,2):\n",
    "            team['Points'].append(int(get_txt[0].tbody.find_all('td',attrs={'class':['rankings-block__banner--points','table-body__cell u-center-text']})[x].text.replace(',',''))) #Points\n",
    "            \n",
    "        teamdf=pd.DataFrame(team)\n",
    "        teamdf.to_csv('ICC//ICC Teams.csv')\n",
    "    \n",
    "        return teamdf\n",
    "    except:\n",
    "        print(sys.exc_info()[0])\n",
    "        print(sys.exc_info()[1])\n",
    "        print(sys.exc_info()[3])\n",
    "        "
   ]
  },
  {
   "cell_type": "code",
   "execution_count": 132,
   "metadata": {},
   "outputs": [
    {
     "data": {
      "text/html": [
       "<div>\n",
       "<style scoped>\n",
       "    .dataframe tbody tr th:only-of-type {\n",
       "        vertical-align: middle;\n",
       "    }\n",
       "\n",
       "    .dataframe tbody tr th {\n",
       "        vertical-align: top;\n",
       "    }\n",
       "\n",
       "    .dataframe thead th {\n",
       "        text-align: right;\n",
       "    }\n",
       "</style>\n",
       "<table border=\"1\" class=\"dataframe\">\n",
       "  <thead>\n",
       "    <tr style=\"text-align: right;\">\n",
       "      <th></th>\n",
       "      <th>Team</th>\n",
       "      <th>Matches</th>\n",
       "      <th>Points</th>\n",
       "      <th>Ratings</th>\n",
       "    </tr>\n",
       "  </thead>\n",
       "  <tbody>\n",
       "    <tr>\n",
       "      <th>0</th>\n",
       "      <td>England</td>\n",
       "      <td>44</td>\n",
       "      <td>5405</td>\n",
       "      <td>123</td>\n",
       "    </tr>\n",
       "    <tr>\n",
       "      <th>1</th>\n",
       "      <td>India</td>\n",
       "      <td>52</td>\n",
       "      <td>6102</td>\n",
       "      <td>117</td>\n",
       "    </tr>\n",
       "    <tr>\n",
       "      <th>2</th>\n",
       "      <td>New Zealand</td>\n",
       "      <td>32</td>\n",
       "      <td>3716</td>\n",
       "      <td>116</td>\n",
       "    </tr>\n",
       "    <tr>\n",
       "      <th>3</th>\n",
       "      <td>Australia</td>\n",
       "      <td>39</td>\n",
       "      <td>4344</td>\n",
       "      <td>111</td>\n",
       "    </tr>\n",
       "    <tr>\n",
       "      <th>4</th>\n",
       "      <td>South Africa</td>\n",
       "      <td>31</td>\n",
       "      <td>3345</td>\n",
       "      <td>108</td>\n",
       "    </tr>\n",
       "    <tr>\n",
       "      <th>5</th>\n",
       "      <td>Pakistan</td>\n",
       "      <td>35</td>\n",
       "      <td>3590</td>\n",
       "      <td>103</td>\n",
       "    </tr>\n",
       "    <tr>\n",
       "      <th>6</th>\n",
       "      <td>Bangladesh</td>\n",
       "      <td>34</td>\n",
       "      <td>2989</td>\n",
       "      <td>88</td>\n",
       "    </tr>\n",
       "    <tr>\n",
       "      <th>7</th>\n",
       "      <td>Sri Lanka</td>\n",
       "      <td>39</td>\n",
       "      <td>3297</td>\n",
       "      <td>85</td>\n",
       "    </tr>\n",
       "    <tr>\n",
       "      <th>8</th>\n",
       "      <td>West Indies</td>\n",
       "      <td>43</td>\n",
       "      <td>3285</td>\n",
       "      <td>76</td>\n",
       "    </tr>\n",
       "    <tr>\n",
       "      <th>9</th>\n",
       "      <td>Afghanistan</td>\n",
       "      <td>28</td>\n",
       "      <td>1549</td>\n",
       "      <td>55</td>\n",
       "    </tr>\n",
       "  </tbody>\n",
       "</table>\n",
       "</div>"
      ],
      "text/plain": [
       "           Team Matches  Points Ratings\n",
       "0       England      44    5405     123\n",
       "1         India      52    6102     117\n",
       "2   New Zealand      32    3716     116\n",
       "3     Australia      39    4344     111\n",
       "4  South Africa      31    3345     108\n",
       "5      Pakistan      35    3590     103\n",
       "6    Bangladesh      34    2989      88\n",
       "7     Sri Lanka      39    3297      85\n",
       "8   West Indies      43    3285      76\n",
       "9   Afghanistan      28    1549      55"
      ]
     },
     "execution_count": 132,
     "metadata": {},
     "output_type": "execute_result"
    }
   ],
   "source": [
    "df=team_func('https://www.icc-cricket.com/rankings/mens/team-rankings/odi')\n",
    "df"
   ]
  },
  {
   "cell_type": "code",
   "execution_count": 71,
   "metadata": {},
   "outputs": [],
   "source": [
    "url='https://www.icc-cricket.com/rankings/mens/player-rankings/odi'\n",
    "response=get(url)\n",
    "soup=BeautifulSoup(response.text,'html.parser')"
   ]
  },
  {
   "cell_type": "code",
   "execution_count": 79,
   "metadata": {},
   "outputs": [
    {
     "data": {
      "text/plain": [
       "'Virat Kohli'"
      ]
     },
     "execution_count": 79,
     "metadata": {},
     "output_type": "execute_result"
    }
   ],
   "source": [
    "soup.find_all('div',attrs={'data-cricket-role':'batting'})[0].find_all('div',attrs={'class':'rankings-block__banner--name'})[0].text"
   ]
  },
  {
   "cell_type": "code",
   "execution_count": 100,
   "metadata": {},
   "outputs": [
    {
     "data": {
      "text/plain": [
       "[<td class=\"table-body__cell u-text-right rating\">855</td>,\n",
       " <td class=\"table-body__cell u-text-right rating\">837</td>,\n",
       " <td class=\"table-body__cell u-text-right rating\">818</td>,\n",
       " <td class=\"table-body__cell u-text-right rating\">790</td>,\n",
       " <td class=\"table-body__cell u-text-right rating\">765</td>,\n",
       " <td class=\"table-body__cell u-text-right rating\">762</td>,\n",
       " <td class=\"table-body__cell u-text-right rating\">759</td>,\n",
       " <td class=\"table-body__cell u-text-right rating\">755</td>,\n",
       " <td class=\"table-body__cell u-text-right rating\">754</td>]"
      ]
     },
     "execution_count": 100,
     "metadata": {},
     "output_type": "execute_result"
    }
   ],
   "source": [
    "soup.find_all('table',attrs={'class':'table'})[0].find_all('td',attrs={'class':'table-body__cell u-text-right rating'})"
   ]
  },
  {
   "cell_type": "code",
   "execution_count": 170,
   "metadata": {},
   "outputs": [],
   "source": [
    "batsmen={}\n",
    "def bat(url):\n",
    "    try:\n",
    "        #url='https://www.icc-cricket.com/rankings/mens/player-rankings/odi'\n",
    "        response=get(url)\n",
    "        soup=BeautifulSoup(response.text,'html.parser')\n",
    "        batsmen.update({'Name':[]})\n",
    "        batsmen.update({'Ratings':[]})\n",
    "        \n",
    "        batsmen['Name'].append(soup.find_all('div',attrs={'data-cricket-role':'batting'})[0].find_all('div',attrs={'class':'rankings-block__banner--name'})[0].text)\n",
    "        batsmen['Ratings'].append(soup.find_all('div',attrs={'class':'rankings-block__banner--rating'})[0].text)\n",
    "        get_name=soup.find_all('table',attrs={'class':'table'})[0].find_all('a')\n",
    "        get_rating=soup.find_all('table',attrs={'class':'table'})[0].find_all('td',attrs={'class':'table-body__cell u-text-right rating'})\n",
    "        \n",
    "        for x in get_name:\n",
    "            batsmen['Name'].append(x.text)\n",
    "        \n",
    "        for x in get_rating:\n",
    "            batsmen['Ratings'].append(x.text)\n",
    "            \n",
    "        batdf=pd.DataFrame(batsmen)\n",
    "        batdf.to_csv('ICC//Top Batsmen.csv')\n",
    "        return batdf\n",
    "\n",
    "    except:\n",
    "        print(sys.exc_info()[0])\n",
    "        print(sys.exc_info()[1])\n",
    "        print(sys.exc_info()[3])\n",
    "        "
   ]
  },
  {
   "cell_type": "code",
   "execution_count": 136,
   "metadata": {},
   "outputs": [
    {
     "data": {
      "text/html": [
       "<div>\n",
       "<style scoped>\n",
       "    .dataframe tbody tr th:only-of-type {\n",
       "        vertical-align: middle;\n",
       "    }\n",
       "\n",
       "    .dataframe tbody tr th {\n",
       "        vertical-align: top;\n",
       "    }\n",
       "\n",
       "    .dataframe thead th {\n",
       "        text-align: right;\n",
       "    }\n",
       "</style>\n",
       "<table border=\"1\" class=\"dataframe\">\n",
       "  <thead>\n",
       "    <tr style=\"text-align: right;\">\n",
       "      <th></th>\n",
       "      <th>Name</th>\n",
       "      <th>Ratings</th>\n",
       "    </tr>\n",
       "  </thead>\n",
       "  <tbody>\n",
       "    <tr>\n",
       "      <th>0</th>\n",
       "      <td>Virat Kohli</td>\n",
       "      <td>871</td>\n",
       "    </tr>\n",
       "    <tr>\n",
       "      <th>1</th>\n",
       "      <td>Rohit Sharma</td>\n",
       "      <td>855</td>\n",
       "    </tr>\n",
       "    <tr>\n",
       "      <th>2</th>\n",
       "      <td>Babar Azam</td>\n",
       "      <td>837</td>\n",
       "    </tr>\n",
       "    <tr>\n",
       "      <th>3</th>\n",
       "      <td>Ross Taylor</td>\n",
       "      <td>818</td>\n",
       "    </tr>\n",
       "    <tr>\n",
       "      <th>4</th>\n",
       "      <td>Francois du Plessis</td>\n",
       "      <td>790</td>\n",
       "    </tr>\n",
       "    <tr>\n",
       "      <th>5</th>\n",
       "      <td>Kane Williamson</td>\n",
       "      <td>765</td>\n",
       "    </tr>\n",
       "    <tr>\n",
       "      <th>6</th>\n",
       "      <td>Aaron Finch</td>\n",
       "      <td>762</td>\n",
       "    </tr>\n",
       "    <tr>\n",
       "      <th>7</th>\n",
       "      <td>David Warner</td>\n",
       "      <td>759</td>\n",
       "    </tr>\n",
       "    <tr>\n",
       "      <th>8</th>\n",
       "      <td>Quinton de Kock</td>\n",
       "      <td>755</td>\n",
       "    </tr>\n",
       "    <tr>\n",
       "      <th>9</th>\n",
       "      <td>Jonny Bairstow</td>\n",
       "      <td>754</td>\n",
       "    </tr>\n",
       "  </tbody>\n",
       "</table>\n",
       "</div>"
      ],
      "text/plain": [
       "                  Name Ratings\n",
       "0          Virat Kohli     871\n",
       "1         Rohit Sharma     855\n",
       "2           Babar Azam     837\n",
       "3          Ross Taylor     818\n",
       "4  Francois du Plessis     790\n",
       "5      Kane Williamson     765\n",
       "6          Aaron Finch     762\n",
       "7         David Warner     759\n",
       "8      Quinton de Kock     755\n",
       "9       Jonny Bairstow     754"
      ]
     },
     "execution_count": 136,
     "metadata": {},
     "output_type": "execute_result"
    }
   ],
   "source": [
    "df=bat('https://www.icc-cricket.com/rankings/mens/player-rankings/odi')\n",
    "df"
   ]
  },
  {
   "cell_type": "markdown",
   "metadata": {},
   "source": [
    "## 6. Write a python program to scrape cricket rankings from ‘www.icc-cricket.com’. You have to scrape:\n",
    "## i) Top 10 ODI teams in women’s cricket along with the records for matches, points and rating.\n",
    "## ii) Top 10 women’s ODI players along with the records of their team and rating.\n",
    "## iii) Top 10 women’s ODI all-rounder along with the records of their team and rating."
   ]
  },
  {
   "cell_type": "code",
   "execution_count": 168,
   "metadata": {},
   "outputs": [
    {
     "data": {
      "text/html": [
       "<div>\n",
       "<style scoped>\n",
       "    .dataframe tbody tr th:only-of-type {\n",
       "        vertical-align: middle;\n",
       "    }\n",
       "\n",
       "    .dataframe tbody tr th {\n",
       "        vertical-align: top;\n",
       "    }\n",
       "\n",
       "    .dataframe thead th {\n",
       "        text-align: right;\n",
       "    }\n",
       "</style>\n",
       "<table border=\"1\" class=\"dataframe\">\n",
       "  <thead>\n",
       "    <tr style=\"text-align: right;\">\n",
       "      <th></th>\n",
       "      <th>Team</th>\n",
       "      <th>Matches</th>\n",
       "      <th>Points</th>\n",
       "      <th>Ratings</th>\n",
       "    </tr>\n",
       "  </thead>\n",
       "  <tbody>\n",
       "    <tr>\n",
       "      <th>0</th>\n",
       "      <td>Australia</td>\n",
       "      <td>15</td>\n",
       "      <td>2436</td>\n",
       "      <td>162</td>\n",
       "    </tr>\n",
       "    <tr>\n",
       "      <th>1</th>\n",
       "      <td>India</td>\n",
       "      <td>15</td>\n",
       "      <td>1812</td>\n",
       "      <td>121</td>\n",
       "    </tr>\n",
       "    <tr>\n",
       "      <th>2</th>\n",
       "      <td>England</td>\n",
       "      <td>14</td>\n",
       "      <td>1670</td>\n",
       "      <td>119</td>\n",
       "    </tr>\n",
       "    <tr>\n",
       "      <th>3</th>\n",
       "      <td>South Africa</td>\n",
       "      <td>16</td>\n",
       "      <td>1713</td>\n",
       "      <td>107</td>\n",
       "    </tr>\n",
       "    <tr>\n",
       "      <th>4</th>\n",
       "      <td>New Zealand</td>\n",
       "      <td>15</td>\n",
       "      <td>1384</td>\n",
       "      <td>92</td>\n",
       "    </tr>\n",
       "    <tr>\n",
       "      <th>5</th>\n",
       "      <td>West Indies</td>\n",
       "      <td>12</td>\n",
       "      <td>1025</td>\n",
       "      <td>85</td>\n",
       "    </tr>\n",
       "    <tr>\n",
       "      <th>6</th>\n",
       "      <td>Pakistan</td>\n",
       "      <td>12</td>\n",
       "      <td>927</td>\n",
       "      <td>77</td>\n",
       "    </tr>\n",
       "    <tr>\n",
       "      <th>7</th>\n",
       "      <td>Bangladesh</td>\n",
       "      <td>5</td>\n",
       "      <td>306</td>\n",
       "      <td>61</td>\n",
       "    </tr>\n",
       "    <tr>\n",
       "      <th>8</th>\n",
       "      <td>Sri Lanka</td>\n",
       "      <td>11</td>\n",
       "      <td>519</td>\n",
       "      <td>47</td>\n",
       "    </tr>\n",
       "    <tr>\n",
       "      <th>9</th>\n",
       "      <td>Ireland</td>\n",
       "      <td>2</td>\n",
       "      <td>25</td>\n",
       "      <td>13</td>\n",
       "    </tr>\n",
       "  </tbody>\n",
       "</table>\n",
       "</div>"
      ],
      "text/plain": [
       "           Team Matches  Points Ratings\n",
       "0     Australia      15    2436     162\n",
       "1         India      15    1812     121\n",
       "2       England      14    1670     119\n",
       "3  South Africa      16    1713     107\n",
       "4   New Zealand      15    1384      92\n",
       "5   West Indies      12    1025      85\n",
       "6      Pakistan      12     927      77\n",
       "7    Bangladesh       5     306      61\n",
       "8     Sri Lanka      11     519      47\n",
       "9       Ireland       2      25      13"
      ]
     },
     "execution_count": 168,
     "metadata": {},
     "output_type": "execute_result"
    }
   ],
   "source": [
    "#Women's Team\n",
    "df=team_func('https://www.icc-cricket.com/rankings/womens/team-rankings/odi')\n",
    "df"
   ]
  },
  {
   "cell_type": "code",
   "execution_count": 171,
   "metadata": {},
   "outputs": [
    {
     "data": {
      "text/html": [
       "<div>\n",
       "<style scoped>\n",
       "    .dataframe tbody tr th:only-of-type {\n",
       "        vertical-align: middle;\n",
       "    }\n",
       "\n",
       "    .dataframe tbody tr th {\n",
       "        vertical-align: top;\n",
       "    }\n",
       "\n",
       "    .dataframe thead th {\n",
       "        text-align: right;\n",
       "    }\n",
       "</style>\n",
       "<table border=\"1\" class=\"dataframe\">\n",
       "  <thead>\n",
       "    <tr style=\"text-align: right;\">\n",
       "      <th></th>\n",
       "      <th>Name</th>\n",
       "      <th>Ratings</th>\n",
       "    </tr>\n",
       "  </thead>\n",
       "  <tbody>\n",
       "    <tr>\n",
       "      <th>0</th>\n",
       "      <td>Meg Lanning</td>\n",
       "      <td>749</td>\n",
       "    </tr>\n",
       "    <tr>\n",
       "      <th>1</th>\n",
       "      <td>Stafanie Taylor</td>\n",
       "      <td>746</td>\n",
       "    </tr>\n",
       "    <tr>\n",
       "      <th>2</th>\n",
       "      <td>Alyssa Healy</td>\n",
       "      <td>741</td>\n",
       "    </tr>\n",
       "    <tr>\n",
       "      <th>3</th>\n",
       "      <td>Smriti Mandhana</td>\n",
       "      <td>732</td>\n",
       "    </tr>\n",
       "    <tr>\n",
       "      <th>4</th>\n",
       "      <td>Amy Satterthwaite</td>\n",
       "      <td>723</td>\n",
       "    </tr>\n",
       "    <tr>\n",
       "      <th>5</th>\n",
       "      <td>Tammy Beaumont</td>\n",
       "      <td>716</td>\n",
       "    </tr>\n",
       "    <tr>\n",
       "      <th>6</th>\n",
       "      <td>Ellyse Perry</td>\n",
       "      <td>691</td>\n",
       "    </tr>\n",
       "    <tr>\n",
       "      <th>7</th>\n",
       "      <td>Lizelle Lee</td>\n",
       "      <td>690</td>\n",
       "    </tr>\n",
       "    <tr>\n",
       "      <th>8</th>\n",
       "      <td>Laura Wolvaardt</td>\n",
       "      <td>689</td>\n",
       "    </tr>\n",
       "    <tr>\n",
       "      <th>9</th>\n",
       "      <td>Mithali Raj</td>\n",
       "      <td>687</td>\n",
       "    </tr>\n",
       "  </tbody>\n",
       "</table>\n",
       "</div>"
      ],
      "text/plain": [
       "                Name Ratings\n",
       "0        Meg Lanning     749\n",
       "1    Stafanie Taylor     746\n",
       "2       Alyssa Healy     741\n",
       "3    Smriti Mandhana     732\n",
       "4  Amy Satterthwaite     723\n",
       "5     Tammy Beaumont     716\n",
       "6       Ellyse Perry     691\n",
       "7        Lizelle Lee     690\n",
       "8    Laura Wolvaardt     689\n",
       "9        Mithali Raj     687"
      ]
     },
     "execution_count": 171,
     "metadata": {},
     "output_type": "execute_result"
    }
   ],
   "source": [
    "#Women\n",
    "bat('https://www.icc-cricket.com/rankings/womens/player-rankings/odi')"
   ]
  },
  {
   "cell_type": "markdown",
   "metadata": {},
   "source": [
    "## 7. Write a python program to scrape details of all the mobile phones under Rs. 20,000 listed on Amazon.in. The scraped data should include Product Name, Price, Image URL and Average Rating."
   ]
  },
  {
   "cell_type": "code",
   "execution_count": 183,
   "metadata": {},
   "outputs": [],
   "source": [
    "url='https://www.amazon.in/s?bbn=1389432031&rh=n%3A976419031%2Cn%3A%21976420031%2Cn%3A1389401031%2Cn%3A1389432031%2Cp_36%3A-2000000&qid=1607273170&rnid=1318502031&ref=lp_1389432031_nr_p_36_5'\n",
    "response=get(url)\n",
    "soup=BeautifulSoup(response.text,'html.parser')"
   ]
  },
  {
   "cell_type": "code",
   "execution_count": 217,
   "metadata": {},
   "outputs": [
    {
     "data": {
      "text/plain": [
       "'Redmi 9A (Nature Green, 2GB Ram, 32GB Storage)'"
      ]
     },
     "execution_count": 217,
     "metadata": {},
     "output_type": "execute_result"
    }
   ],
   "source": [
    "get_title=soup.find_all('a',attrs={'class':'a-link-normal a-text-normal'})[0].span.text"
   ]
  },
  {
   "cell_type": "code",
   "execution_count": 222,
   "metadata": {},
   "outputs": [],
   "source": [
    "get_price=soup.find_all('span',attrs={'class':'a-price-whole'})[0].text"
   ]
  },
  {
   "cell_type": "code",
   "execution_count": 235,
   "metadata": {},
   "outputs": [],
   "source": [
    "get_rating=soup.find_all('span',attrs={'class':'a-icon-alt'})[0].text"
   ]
  },
  {
   "cell_type": "code",
   "execution_count": 254,
   "metadata": {},
   "outputs": [],
   "source": [
    "get_img_src=soup.find_all('a',attrs={'class':'a-link-normal s-no-outline'})[0].img['src']"
   ]
  },
  {
   "cell_type": "code",
   "execution_count": 264,
   "metadata": {},
   "outputs": [],
   "source": [
    "mobile_dict={}\n",
    "def mob(url):\n",
    "    try:\n",
    "        response=get(url)\n",
    "        soup=BeautifulSoup(response.text,'html.parser')\n",
    "\n",
    "        mobile_dict.update({'Title':[]})\n",
    "        mobile_dict.update({'Price':[]})\n",
    "        mobile_dict.update({'Rating':[]})\n",
    "        mobile_dict.update({'Image Source':[]})\n",
    "\n",
    "        for x in range(0,20):\n",
    "            mobile_dict['Title'].append(soup.find_all('a',attrs={'class':'a-link-normal a-text-normal'})[x].span.text)\n",
    "            mobile_dict['Price'].append(soup.find_all('span',attrs={'class':'a-price-whole'})[x].text)\n",
    "            mobile_dict['Rating'].append(soup.find_all('span',attrs={'class':'a-icon-alt'})[x].text)\n",
    "            mobile_dict['Image Source'].append(soup.find_all('a',attrs={'class':'a-link-normal s-no-outline'})[x].img['src'])\n",
    "\n",
    "        mobile_df=pd.DataFrame(mobile_dict)\n",
    "        return mobile_df\n",
    "    \n",
    "    except:\n",
    "        print(sys.exc_info()[0])\n",
    "        print(sys.exc_info()[1])\n",
    "        print(sys.exc_info()[3])"
   ]
  },
  {
   "cell_type": "code",
   "execution_count": 266,
   "metadata": {},
   "outputs": [
    {
     "data": {
      "text/html": [
       "<div>\n",
       "<style scoped>\n",
       "    .dataframe tbody tr th:only-of-type {\n",
       "        vertical-align: middle;\n",
       "    }\n",
       "\n",
       "    .dataframe tbody tr th {\n",
       "        vertical-align: top;\n",
       "    }\n",
       "\n",
       "    .dataframe thead th {\n",
       "        text-align: right;\n",
       "    }\n",
       "</style>\n",
       "<table border=\"1\" class=\"dataframe\">\n",
       "  <thead>\n",
       "    <tr style=\"text-align: right;\">\n",
       "      <th></th>\n",
       "      <th>Title</th>\n",
       "      <th>Price</th>\n",
       "      <th>Rating</th>\n",
       "      <th>Image Source</th>\n",
       "    </tr>\n",
       "  </thead>\n",
       "  <tbody>\n",
       "    <tr>\n",
       "      <th>0</th>\n",
       "      <td>Redmi 9A (Nature Green, 2GB Ram, 32GB Storage)</td>\n",
       "      <td>6,999</td>\n",
       "      <td>4 Stars &amp; Up</td>\n",
       "      <td>https://m.media-amazon.com/images/I/710fuhtgIS...</td>\n",
       "    </tr>\n",
       "    <tr>\n",
       "      <th>1</th>\n",
       "      <td>Redmi 9 (Sporty Orange, 4GB RAM, 64GB Storage)...</td>\n",
       "      <td>8,999</td>\n",
       "      <td>3 Stars &amp; Up</td>\n",
       "      <td>https://m.media-amazon.com/images/I/81aWatlQCv...</td>\n",
       "    </tr>\n",
       "    <tr>\n",
       "      <th>2</th>\n",
       "      <td>Redmi 9 Prime (Space Blue, 4GB RAM, 64GB Stora...</td>\n",
       "      <td>9,999</td>\n",
       "      <td>2 Stars &amp; Up</td>\n",
       "      <td>https://m.media-amazon.com/images/I/719lhUzicY...</td>\n",
       "    </tr>\n",
       "    <tr>\n",
       "      <th>3</th>\n",
       "      <td>Samsung Galaxy M31 Prime Edition (Ocean Blue, ...</td>\n",
       "      <td>16,499</td>\n",
       "      <td>1 Star &amp; Up</td>\n",
       "      <td>https://m.media-amazon.com/images/I/71zb0UaK0P...</td>\n",
       "    </tr>\n",
       "    <tr>\n",
       "      <th>4</th>\n",
       "      <td>Nokia 105 Single SIM (Black)</td>\n",
       "      <td>1,179</td>\n",
       "      <td>4.1 out of 5 stars</td>\n",
       "      <td>https://m.media-amazon.com/images/I/31Z2ee9oYQ...</td>\n",
       "    </tr>\n",
       "    <tr>\n",
       "      <th>5</th>\n",
       "      <td>Redmi 9A (Sea Blue, 3GB Ram, 32GB Storage)</td>\n",
       "      <td>7,499</td>\n",
       "      <td>4.0 out of 5 stars</td>\n",
       "      <td>https://m.media-amazon.com/images/I/71sxX9aLtn...</td>\n",
       "    </tr>\n",
       "    <tr>\n",
       "      <th>6</th>\n",
       "      <td>Samsung Galaxy M01 (Blue, 3GB RAM, 32GB Storag...</td>\n",
       "      <td>7,499</td>\n",
       "      <td>4.2 out of 5 stars</td>\n",
       "      <td>https://m.media-amazon.com/images/I/81o1rDu5FZ...</td>\n",
       "    </tr>\n",
       "    <tr>\n",
       "      <th>7</th>\n",
       "      <td>Redmi 9 Prime (Matte Black, 4GB RAM, 64GB Stor...</td>\n",
       "      <td>9,999</td>\n",
       "      <td>4.2 out of 5 stars</td>\n",
       "      <td>https://m.media-amazon.com/images/I/711+lAQXog...</td>\n",
       "    </tr>\n",
       "    <tr>\n",
       "      <th>8</th>\n",
       "      <td>Redmi Note 9 (Pebble Grey, 4GB RAM 64GB Storag...</td>\n",
       "      <td>11,999</td>\n",
       "      <td>4.1 out of 5 stars</td>\n",
       "      <td>https://m.media-amazon.com/images/I/81mtDLql+X...</td>\n",
       "    </tr>\n",
       "    <tr>\n",
       "      <th>9</th>\n",
       "      <td>Redmi 9A (Midnight Black, 3GB Ram, 32GB Storage)</td>\n",
       "      <td>7,499</td>\n",
       "      <td>4.1 out of 5 stars</td>\n",
       "      <td>https://m.media-amazon.com/images/I/712Ex7xDnd...</td>\n",
       "    </tr>\n",
       "    <tr>\n",
       "      <th>10</th>\n",
       "      <td>Samsung Galaxy M21 (Midnight Blue, 4GB RAM, 64...</td>\n",
       "      <td>13,999</td>\n",
       "      <td>3.9 out of 5 stars</td>\n",
       "      <td>https://m.media-amazon.com/images/I/71dujTTJDZ...</td>\n",
       "    </tr>\n",
       "    <tr>\n",
       "      <th>11</th>\n",
       "      <td>Samsung Galaxy M21 (Raven Black, 4GB RAM, 64GB...</td>\n",
       "      <td>13,999</td>\n",
       "      <td>4.2 out of 5 stars</td>\n",
       "      <td>https://m.media-amazon.com/images/I/71QLvGIAq5...</td>\n",
       "    </tr>\n",
       "    <tr>\n",
       "      <th>12</th>\n",
       "      <td>Oppo A52 (Twilight Black, 6GB RAM, 128GB Stora...</td>\n",
       "      <td>13,990</td>\n",
       "      <td>4.2 out of 5 stars</td>\n",
       "      <td>https://m.media-amazon.com/images/I/71FPmXaDfb...</td>\n",
       "    </tr>\n",
       "    <tr>\n",
       "      <th>13</th>\n",
       "      <td>Samsung Galaxy M31 (Ocean Blue, 6GB RAM, 128GB...</td>\n",
       "      <td>16,499</td>\n",
       "      <td>4.1 out of 5 stars</td>\n",
       "      <td>https://m.media-amazon.com/images/I/71-Su4Wr0H...</td>\n",
       "    </tr>\n",
       "    <tr>\n",
       "      <th>14</th>\n",
       "      <td>Redmi 9 Prime (Mint Green, 4GB RAM, 64GB Stora...</td>\n",
       "      <td>9,999</td>\n",
       "      <td>4.2 out of 5 stars</td>\n",
       "      <td>https://m.media-amazon.com/images/I/710qEb8G3g...</td>\n",
       "    </tr>\n",
       "    <tr>\n",
       "      <th>15</th>\n",
       "      <td>Redmi Note 9 Pro (Aurora Blue, 4GB RAM, 64GB S...</td>\n",
       "      <td>13,999</td>\n",
       "      <td>4.2 out of 5 stars</td>\n",
       "      <td>https://m.media-amazon.com/images/I/81pzsRpE5G...</td>\n",
       "    </tr>\n",
       "    <tr>\n",
       "      <th>16</th>\n",
       "      <td>Redmi Note 9 (Arctic White, 4GB RAM, 64GB Stor...</td>\n",
       "      <td>11,999</td>\n",
       "      <td>4.1 out of 5 stars</td>\n",
       "      <td>https://m.media-amazon.com/images/I/714qRVfu2v...</td>\n",
       "    </tr>\n",
       "    <tr>\n",
       "      <th>17</th>\n",
       "      <td>Redmi 9 Prime (Sunrise Flare, 4GB RAM, 64GB St...</td>\n",
       "      <td>9,999</td>\n",
       "      <td>4.2 out of 5 stars</td>\n",
       "      <td>https://m.media-amazon.com/images/I/71GqB5VJFg...</td>\n",
       "    </tr>\n",
       "    <tr>\n",
       "      <th>18</th>\n",
       "      <td>Samsung Galaxy M31 Prime Edition (Space Black,...</td>\n",
       "      <td>16,499</td>\n",
       "      <td>4.2 out of 5 stars</td>\n",
       "      <td>https://m.media-amazon.com/images/I/71Sinqbw35...</td>\n",
       "    </tr>\n",
       "    <tr>\n",
       "      <th>19</th>\n",
       "      <td>Redmi Note 9 (Aqua Green, 4GB RAM, 64GB Storag...</td>\n",
       "      <td>11,999</td>\n",
       "      <td>4.2 out of 5 stars</td>\n",
       "      <td>https://m.media-amazon.com/images/I/81EjHa-dSJ...</td>\n",
       "    </tr>\n",
       "  </tbody>\n",
       "</table>\n",
       "</div>"
      ],
      "text/plain": [
       "                                                Title   Price  \\\n",
       "0      Redmi 9A (Nature Green, 2GB Ram, 32GB Storage)   6,999   \n",
       "1   Redmi 9 (Sporty Orange, 4GB RAM, 64GB Storage)...   8,999   \n",
       "2   Redmi 9 Prime (Space Blue, 4GB RAM, 64GB Stora...   9,999   \n",
       "3   Samsung Galaxy M31 Prime Edition (Ocean Blue, ...  16,499   \n",
       "4                        Nokia 105 Single SIM (Black)   1,179   \n",
       "5          Redmi 9A (Sea Blue, 3GB Ram, 32GB Storage)   7,499   \n",
       "6   Samsung Galaxy M01 (Blue, 3GB RAM, 32GB Storag...   7,499   \n",
       "7   Redmi 9 Prime (Matte Black, 4GB RAM, 64GB Stor...   9,999   \n",
       "8   Redmi Note 9 (Pebble Grey, 4GB RAM 64GB Storag...  11,999   \n",
       "9    Redmi 9A (Midnight Black, 3GB Ram, 32GB Storage)   7,499   \n",
       "10  Samsung Galaxy M21 (Midnight Blue, 4GB RAM, 64...  13,999   \n",
       "11  Samsung Galaxy M21 (Raven Black, 4GB RAM, 64GB...  13,999   \n",
       "12  Oppo A52 (Twilight Black, 6GB RAM, 128GB Stora...  13,990   \n",
       "13  Samsung Galaxy M31 (Ocean Blue, 6GB RAM, 128GB...  16,499   \n",
       "14  Redmi 9 Prime (Mint Green, 4GB RAM, 64GB Stora...   9,999   \n",
       "15  Redmi Note 9 Pro (Aurora Blue, 4GB RAM, 64GB S...  13,999   \n",
       "16  Redmi Note 9 (Arctic White, 4GB RAM, 64GB Stor...  11,999   \n",
       "17  Redmi 9 Prime (Sunrise Flare, 4GB RAM, 64GB St...   9,999   \n",
       "18  Samsung Galaxy M31 Prime Edition (Space Black,...  16,499   \n",
       "19  Redmi Note 9 (Aqua Green, 4GB RAM, 64GB Storag...  11,999   \n",
       "\n",
       "                Rating                                       Image Source  \n",
       "0         4 Stars & Up  https://m.media-amazon.com/images/I/710fuhtgIS...  \n",
       "1         3 Stars & Up  https://m.media-amazon.com/images/I/81aWatlQCv...  \n",
       "2         2 Stars & Up  https://m.media-amazon.com/images/I/719lhUzicY...  \n",
       "3          1 Star & Up  https://m.media-amazon.com/images/I/71zb0UaK0P...  \n",
       "4   4.1 out of 5 stars  https://m.media-amazon.com/images/I/31Z2ee9oYQ...  \n",
       "5   4.0 out of 5 stars  https://m.media-amazon.com/images/I/71sxX9aLtn...  \n",
       "6   4.2 out of 5 stars  https://m.media-amazon.com/images/I/81o1rDu5FZ...  \n",
       "7   4.2 out of 5 stars  https://m.media-amazon.com/images/I/711+lAQXog...  \n",
       "8   4.1 out of 5 stars  https://m.media-amazon.com/images/I/81mtDLql+X...  \n",
       "9   4.1 out of 5 stars  https://m.media-amazon.com/images/I/712Ex7xDnd...  \n",
       "10  3.9 out of 5 stars  https://m.media-amazon.com/images/I/71dujTTJDZ...  \n",
       "11  4.2 out of 5 stars  https://m.media-amazon.com/images/I/71QLvGIAq5...  \n",
       "12  4.2 out of 5 stars  https://m.media-amazon.com/images/I/71FPmXaDfb...  \n",
       "13  4.1 out of 5 stars  https://m.media-amazon.com/images/I/71-Su4Wr0H...  \n",
       "14  4.2 out of 5 stars  https://m.media-amazon.com/images/I/710qEb8G3g...  \n",
       "15  4.2 out of 5 stars  https://m.media-amazon.com/images/I/81pzsRpE5G...  \n",
       "16  4.1 out of 5 stars  https://m.media-amazon.com/images/I/714qRVfu2v...  \n",
       "17  4.2 out of 5 stars  https://m.media-amazon.com/images/I/71GqB5VJFg...  \n",
       "18  4.2 out of 5 stars  https://m.media-amazon.com/images/I/71Sinqbw35...  \n",
       "19  4.2 out of 5 stars  https://m.media-amazon.com/images/I/81EjHa-dSJ...  "
      ]
     },
     "execution_count": 266,
     "metadata": {},
     "output_type": "execute_result"
    }
   ],
   "source": [
    "df=mob('https://www.amazon.in/s?bbn=1389432031&rh=n%3A976419031%2Cn%3A%21976420031%2Cn%3A1389401031%2Cn%3A1389432031%2Cp_36%3A-2000000&qid=1607273170&rnid=1318502031&ref=lp_1389432031_nr_p_36_5')\n",
    "df"
   ]
  },
  {
   "cell_type": "markdown",
   "metadata": {},
   "source": [
    "## 8. Write a python program to extract information about the local weather from the National Weather Service website of USA, https://www.weather.gov/ for the city, San Francisco. You need to extract data about 7 day extended forecast display for the city. The data should include period, short description, temperature and description."
   ]
  },
  {
   "cell_type": "code",
   "execution_count": 2,
   "metadata": {},
   "outputs": [],
   "source": [
    "url='https://forecast.weather.gov/MapClick.php?lat=37.777120000000025&lon=-122.41963999999996#.X89aAS0RpQI'\n",
    "response=get(url)\n",
    "soup=BeautifulSoup(response.text,'html.parser')"
   ]
  },
  {
   "cell_type": "code",
   "execution_count": 36,
   "metadata": {},
   "outputs": [
    {
     "data": {
      "text/plain": [
       "[<div class=\"col-sm-2 forecast-label\"><b>Overnight</b></div>,\n",
       " <div class=\"col-sm-2 forecast-label\"><b>Tuesday</b></div>,\n",
       " <div class=\"col-sm-2 forecast-label\"><b>Tuesday Night</b></div>,\n",
       " <div class=\"col-sm-2 forecast-label\"><b>Wednesday</b></div>,\n",
       " <div class=\"col-sm-2 forecast-label\"><b>Wednesday Night</b></div>,\n",
       " <div class=\"col-sm-2 forecast-label\"><b>Thursday</b></div>,\n",
       " <div class=\"col-sm-2 forecast-label\"><b>Thursday Night</b></div>,\n",
       " <div class=\"col-sm-2 forecast-label\"><b>Friday</b></div>,\n",
       " <div class=\"col-sm-2 forecast-label\"><b>Friday Night</b></div>,\n",
       " <div class=\"col-sm-2 forecast-label\"><b>Saturday</b></div>,\n",
       " <div class=\"col-sm-2 forecast-label\"><b>Saturday Night</b></div>,\n",
       " <div class=\"col-sm-2 forecast-label\"><b>Sunday</b></div>,\n",
       " <div class=\"col-sm-2 forecast-label\"><b>Sunday Night</b></div>,\n",
       " <div class=\"col-sm-2 forecast-label\"><b>Monday</b></div>]"
      ]
     },
     "execution_count": 36,
     "metadata": {},
     "output_type": "execute_result"
    }
   ],
   "source": [
    "period=soup.find_all('div',attrs={'class':'col-sm-2 forecast-label'})\n",
    "period"
   ]
  },
  {
   "cell_type": "code",
   "execution_count": 33,
   "metadata": {},
   "outputs": [
    {
     "data": {
      "text/plain": [
       "[<p class=\"temp temp-low\">Low: 49 °F</p>,\n",
       " <p class=\"temp temp-low\">Low: 46 °F</p>,\n",
       " <p class=\"temp temp-low\">Low: 47 °F</p>,\n",
       " <p class=\"temp temp-low\">Low: 45 °F</p>]"
      ]
     },
     "execution_count": 33,
     "metadata": {},
     "output_type": "execute_result"
    }
   ],
   "source": [
    "soup.find_all('p',attrs={'class':'temp temp-low'})"
   ]
  },
  {
   "cell_type": "code",
   "execution_count": 34,
   "metadata": {},
   "outputs": [
    {
     "data": {
      "text/plain": [
       "[<p class=\"temp temp-high\">High: 68 °F</p>,\n",
       " <p class=\"temp temp-high\">High: 64 °F</p>,\n",
       " <p class=\"temp temp-high\">High: 63 °F</p>,\n",
       " <p class=\"temp temp-high\">High: 59 °F</p>]"
      ]
     },
     "execution_count": 34,
     "metadata": {},
     "output_type": "execute_result"
    }
   ],
   "source": [
    "soup.find_all('p',attrs={'class':'temp temp-high'})"
   ]
  },
  {
   "cell_type": "code",
   "execution_count": 26,
   "metadata": {},
   "outputs": [
    {
     "data": {
      "text/plain": [
       "'Mostly clear, with a low around 49. Light south southeast wind. '"
      ]
     },
     "execution_count": 26,
     "metadata": {},
     "output_type": "execute_result"
    }
   ],
   "source": [
    "soup.find_all('div',attrs={'class':'col-sm-10 forecast-text'})[0].text"
   ]
  },
  {
   "cell_type": "code",
   "execution_count": 39,
   "metadata": {},
   "outputs": [],
   "source": [
    "temp_dict={}\n",
    "def temp(url):\n",
    "    try:\n",
    "        response=get(url)\n",
    "        soup=BeautifulSoup(response.text,'html.parser')\n",
    "        temp_dict.update({'Temp':[]})\n",
    "        temp_dict.update({'Period':[]})\n",
    "        temp_dict.update({'Description':[]})\n",
    "        \n",
    "        temp_low=soup.find_all('p',attrs={'class':'temp temp-low'})\n",
    "        temp_high=soup.find_all('p',attrs={'class':'temp temp-high'})\n",
    "        \n",
    "        for x in temp_low:\n",
    "            i=0\n",
    "            temp_dict['Temp'].append(temp_low[i].text)\n",
    "            i+=2\n",
    "        \n",
    "        for x in temp_high:\n",
    "            i=1\n",
    "            temp_dict['Temp'].append(temp_high[i].text)\n",
    "            i+=2\n",
    "        \n",
    "        for x in range(0,8):\n",
    "            temp_dict['Period'].append(soup.find_all('div',attrs={'class':'col-sm-2 forecast-label'})[x].text)\n",
    "            temp_dict['Description'].append(soup.find_all('div',attrs={'class':'col-sm-10 forecast-text'})[x].text)\n",
    "        \n",
    "        temp_df=pd.DataFrame(temp_dict)\n",
    "        return temp_df\n",
    "        \n",
    "    except:\n",
    "        print(sys.exc_info()[0])\n",
    "        print(sys.exc_info()[1])\n",
    "        print(sys.exc_info()[3])"
   ]
  },
  {
   "cell_type": "code",
   "execution_count": 40,
   "metadata": {},
   "outputs": [
    {
     "data": {
      "text/html": [
       "<div>\n",
       "<style scoped>\n",
       "    .dataframe tbody tr th:only-of-type {\n",
       "        vertical-align: middle;\n",
       "    }\n",
       "\n",
       "    .dataframe tbody tr th {\n",
       "        vertical-align: top;\n",
       "    }\n",
       "\n",
       "    .dataframe thead th {\n",
       "        text-align: right;\n",
       "    }\n",
       "</style>\n",
       "<table border=\"1\" class=\"dataframe\">\n",
       "  <thead>\n",
       "    <tr style=\"text-align: right;\">\n",
       "      <th></th>\n",
       "      <th>Temp</th>\n",
       "      <th>Period</th>\n",
       "      <th>Description</th>\n",
       "    </tr>\n",
       "  </thead>\n",
       "  <tbody>\n",
       "    <tr>\n",
       "      <th>0</th>\n",
       "      <td>Low: 53 °F</td>\n",
       "      <td>Overnight</td>\n",
       "      <td>Mostly clear, with a steady temperature around...</td>\n",
       "    </tr>\n",
       "    <tr>\n",
       "      <th>1</th>\n",
       "      <td>Low: 53 °F</td>\n",
       "      <td>Tuesday</td>\n",
       "      <td>Sunny, with a high near 70. Calm wind becoming...</td>\n",
       "    </tr>\n",
       "    <tr>\n",
       "      <th>2</th>\n",
       "      <td>Low: 53 °F</td>\n",
       "      <td>Tuesday Night</td>\n",
       "      <td>Mostly clear, with a low around 46. North nort...</td>\n",
       "    </tr>\n",
       "    <tr>\n",
       "      <th>3</th>\n",
       "      <td>Low: 53 °F</td>\n",
       "      <td>Wednesday</td>\n",
       "      <td>Mostly sunny, with a high near 64. North wind ...</td>\n",
       "    </tr>\n",
       "    <tr>\n",
       "      <th>4</th>\n",
       "      <td>High: 64 °F</td>\n",
       "      <td>Wednesday Night</td>\n",
       "      <td>Partly cloudy, with a low around 48. Calm wind.</td>\n",
       "    </tr>\n",
       "    <tr>\n",
       "      <th>5</th>\n",
       "      <td>High: 64 °F</td>\n",
       "      <td>Thursday</td>\n",
       "      <td>Mostly sunny, with a high near 62.</td>\n",
       "    </tr>\n",
       "    <tr>\n",
       "      <th>6</th>\n",
       "      <td>High: 64 °F</td>\n",
       "      <td>Thursday Night</td>\n",
       "      <td>Partly cloudy, with a low around 45.</td>\n",
       "    </tr>\n",
       "    <tr>\n",
       "      <th>7</th>\n",
       "      <td>High: 64 °F</td>\n",
       "      <td>Friday</td>\n",
       "      <td>Mostly sunny, with a high near 60.</td>\n",
       "    </tr>\n",
       "  </tbody>\n",
       "</table>\n",
       "</div>"
      ],
      "text/plain": [
       "          Temp           Period  \\\n",
       "0   Low: 53 °F        Overnight   \n",
       "1   Low: 53 °F          Tuesday   \n",
       "2   Low: 53 °F    Tuesday Night   \n",
       "3   Low: 53 °F        Wednesday   \n",
       "4  High: 64 °F  Wednesday Night   \n",
       "5  High: 64 °F         Thursday   \n",
       "6  High: 64 °F   Thursday Night   \n",
       "7  High: 64 °F           Friday   \n",
       "\n",
       "                                         Description  \n",
       "0  Mostly clear, with a steady temperature around...  \n",
       "1  Sunny, with a high near 70. Calm wind becoming...  \n",
       "2  Mostly clear, with a low around 46. North nort...  \n",
       "3  Mostly sunny, with a high near 64. North wind ...  \n",
       "4   Partly cloudy, with a low around 48. Calm wind.   \n",
       "5                 Mostly sunny, with a high near 62.  \n",
       "6               Partly cloudy, with a low around 45.  \n",
       "7                 Mostly sunny, with a high near 60.  "
      ]
     },
     "execution_count": 40,
     "metadata": {},
     "output_type": "execute_result"
    }
   ],
   "source": [
    "df=temp('https://forecast.weather.gov/MapClick.php?lat=37.777120000000025&lon=-122.41963999999996#.X89aAS0RpQI')\n",
    "df"
   ]
  },
  {
   "cell_type": "markdown",
   "metadata": {},
   "source": [
    "## 9. Write a python program to scrape ‘software developer’ job listings from ‘Monster.com’. It should include all the jobs listed for the next 5 pages."
   ]
  },
  {
   "cell_type": "code",
   "execution_count": 37,
   "metadata": {},
   "outputs": [],
   "source": [
    "jobs_dict={}\n",
    "def job(url):\n",
    "    browser=Safari()\n",
    "    browser.get(url)\n",
    "    load_more=browser.find_element_by_xpath(\"//a[@class='mux-btn btn-secondary load-more-btn ']\")\n",
    "    for x in range(5):\n",
    "        load_more.click()   #Load Next 5 Pages\n",
    "        time.sleep(2)\n",
    "    browser=browser.page_source\n",
    "    soup=BeautifulSoup(browser,'lxml')\n",
    "    jobs_dict.update({'Jobs':[]})\n",
    "    jobs=soup.find_all('div',attrs={'class':'mux-search-results'})[0].find_all('a')\n",
    "    \n",
    "    def load_job():\n",
    "        for x in range(len(jobs)):\n",
    "            jobs_dict['Jobs'].append(jobs[x].text.replace('\\r',\"\").replace('\\n',\"\").strip())\n",
    "    \n",
    "    load_job()\n",
    "    jobs_df=pd.DataFrame(jobs_dict)\n",
    "    return jobs_df\n",
    "        \n",
    "    "
   ]
  },
  {
   "cell_type": "code",
   "execution_count": 38,
   "metadata": {},
   "outputs": [
    {
     "name": "stdout",
     "output_type": "stream",
     "text": [
      "<class 'pandas.core.frame.DataFrame'>\n",
      "RangeIndex: 153 entries, 0 to 152\n",
      "Data columns (total 1 columns):\n",
      " #   Column  Non-Null Count  Dtype \n",
      "---  ------  --------------  ----- \n",
      " 0   Jobs    153 non-null    object\n",
      "dtypes: object(1)\n",
      "memory usage: 1.3+ KB\n"
     ]
    }
   ],
   "source": [
    "df=job('https://www.monster.com/jobs/search/?q=Software-Developer')\n",
    "df.info()"
   ]
  },
  {
   "cell_type": "code",
   "execution_count": 39,
   "metadata": {},
   "outputs": [
    {
     "data": {
      "text/html": [
       "<div>\n",
       "<style scoped>\n",
       "    .dataframe tbody tr th:only-of-type {\n",
       "        vertical-align: middle;\n",
       "    }\n",
       "\n",
       "    .dataframe tbody tr th {\n",
       "        vertical-align: top;\n",
       "    }\n",
       "\n",
       "    .dataframe thead th {\n",
       "        text-align: right;\n",
       "    }\n",
       "</style>\n",
       "<table border=\"1\" class=\"dataframe\">\n",
       "  <thead>\n",
       "    <tr style=\"text-align: right;\">\n",
       "      <th></th>\n",
       "      <th>Jobs</th>\n",
       "    </tr>\n",
       "  </thead>\n",
       "  <tbody>\n",
       "    <tr>\n",
       "      <th>0</th>\n",
       "      <td>Lead Mobile Software Developer</td>\n",
       "    </tr>\n",
       "    <tr>\n",
       "      <th>1</th>\n",
       "      <td>Software Developer - C#/.NET, Azure, SQL Server</td>\n",
       "    </tr>\n",
       "    <tr>\n",
       "      <th>2</th>\n",
       "      <td>Software Application Developer/Analyst 3</td>\n",
       "    </tr>\n",
       "    <tr>\n",
       "      <th>3</th>\n",
       "      <td>Software Developer IV</td>\n",
       "    </tr>\n",
       "    <tr>\n",
       "      <th>4</th>\n",
       "      <td>Senior Software Developer</td>\n",
       "    </tr>\n",
       "  </tbody>\n",
       "</table>\n",
       "</div>"
      ],
      "text/plain": [
       "                                              Jobs\n",
       "0                   Lead Mobile Software Developer\n",
       "1  Software Developer - C#/.NET, Azure, SQL Server\n",
       "2         Software Application Developer/Analyst 3\n",
       "3                            Software Developer IV\n",
       "4                        Senior Software Developer"
      ]
     },
     "execution_count": 39,
     "metadata": {},
     "output_type": "execute_result"
    }
   ],
   "source": [
    "df.head()"
   ]
  },
  {
   "cell_type": "markdown",
   "metadata": {},
   "source": [
    "## 10. Write a python program to scrape ‘datascientist’ joblistings for location ‘NewDelhi’ from ‘Monster.com’. It should include all the jobs listed for the next 5 pages."
   ]
  },
  {
   "cell_type": "code",
   "execution_count": 66,
   "metadata": {},
   "outputs": [],
   "source": [
    "jobs_dict={}\n",
    "def job(url):\n",
    "    response=Safari()\n",
    "    response.get(url)\n",
    "    time.sleep(2)\n",
    "    input_job=response.find_element_by_xpath(\"//input[@class='form-control tt-input' and @placeholder='Search Jobs']\")\n",
    "    input_job.send_keys('Data Scientist')\n",
    "    input_location=response.find_element_by_xpath(\"//input[@class='form-control tt-input' and @placeholder='Location']\")\n",
    "    input_location.send_keys('Delhi')\n",
    "    search=response.find_element_by_xpath(\"//div[@class='hero-container']//button\")\n",
    "    search.click()\n",
    "    time.sleep(2)\n",
    "    response=response.page_source\n",
    "    soup=BeautifulSoup(response,'lxml')\n",
    "    jobs_dict.update({'Jobs':[]})\n",
    "    jobs=soup.find_all('div',attrs={'class':'mux-card mux-job-card'})[0].find_all('a')\n",
    "    \n",
    "    def load_job():\n",
    "        for x in range(len(jobs)):\n",
    "            jobs_dict['Jobs'].append(jobs[x].text.replace('\\r',\"\").replace('\\n',\"\").strip())\n",
    "    \n",
    "    load_job()\n",
    "    jobs_df=pd.DataFrame(jobs_dict)\n",
    "    return jobs_df    "
   ]
  },
  {
   "cell_type": "code",
   "execution_count": 67,
   "metadata": {},
   "outputs": [
    {
     "data": {
      "text/html": [
       "<div>\n",
       "<style scoped>\n",
       "    .dataframe tbody tr th:only-of-type {\n",
       "        vertical-align: middle;\n",
       "    }\n",
       "\n",
       "    .dataframe tbody tr th {\n",
       "        vertical-align: top;\n",
       "    }\n",
       "\n",
       "    .dataframe thead th {\n",
       "        text-align: right;\n",
       "    }\n",
       "</style>\n",
       "<table border=\"1\" class=\"dataframe\">\n",
       "  <thead>\n",
       "    <tr style=\"text-align: right;\">\n",
       "      <th></th>\n",
       "      <th>Jobs</th>\n",
       "    </tr>\n",
       "  </thead>\n",
       "  <tbody>\n",
       "    <tr>\n",
       "      <th>0</th>\n",
       "      <td>Microstrategy Business Intelligence Analyst / ...</td>\n",
       "    </tr>\n",
       "    <tr>\n",
       "      <th>1</th>\n",
       "      <td>MicroStrategy Business Intelligence Analyst / ...</td>\n",
       "    </tr>\n",
       "  </tbody>\n",
       "</table>\n",
       "</div>"
      ],
      "text/plain": [
       "                                                Jobs\n",
       "0  Microstrategy Business Intelligence Analyst / ...\n",
       "1  MicroStrategy Business Intelligence Analyst / ..."
      ]
     },
     "execution_count": 67,
     "metadata": {},
     "output_type": "execute_result"
    }
   ],
   "source": [
    "df=job('https://www.monster.com/jobs/')\n",
    "df.head()"
   ]
  }
 ],
 "metadata": {
  "kernelspec": {
   "display_name": "Python 3",
   "language": "python",
   "name": "python3"
  },
  "language_info": {
   "codemirror_mode": {
    "name": "ipython",
    "version": 3
   },
   "file_extension": ".py",
   "mimetype": "text/x-python",
   "name": "python",
   "nbconvert_exporter": "python",
   "pygments_lexer": "ipython3",
   "version": "3.8.3"
  }
 },
 "nbformat": 4,
 "nbformat_minor": 4
}
